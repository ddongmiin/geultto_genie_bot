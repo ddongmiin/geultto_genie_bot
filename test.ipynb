{
 "cells": [
  {
   "cell_type": "code",
   "execution_count": 1,
   "metadata": {},
   "outputs": [
    {
     "data": {
      "text/html": [
       "<div>\n",
       "<style scoped>\n",
       "    .dataframe tbody tr th:only-of-type {\n",
       "        vertical-align: middle;\n",
       "    }\n",
       "\n",
       "    .dataframe tbody tr th {\n",
       "        vertical-align: top;\n",
       "    }\n",
       "\n",
       "    .dataframe thead th {\n",
       "        text-align: right;\n",
       "    }\n",
       "</style>\n",
       "<table border=\"1\" class=\"dataframe\">\n",
       "  <thead>\n",
       "    <tr style=\"text-align: right;\">\n",
       "      <th></th>\n",
       "      <th>total_emoji</th>\n",
       "      <th>total_post</th>\n",
       "      <th>total_thread</th>\n",
       "    </tr>\n",
       "  </thead>\n",
       "  <tbody>\n",
       "    <tr>\n",
       "      <th>0</th>\n",
       "      <td>82791</td>\n",
       "      <td>3712</td>\n",
       "      <td>7570</td>\n",
       "    </tr>\n",
       "  </tbody>\n",
       "</table>\n",
       "</div>"
      ],
      "text/plain": [
       "   total_emoji  total_post  total_thread\n",
       "0        82791        3712          7570"
      ]
     },
     "execution_count": 1,
     "metadata": {},
     "output_type": "execute_result"
    }
   ],
   "source": [
    "import os\n",
    "from core.slack import SlackMessageRetriever\n",
    "from core.bigquery import BigqueryProcessor\n",
    "\n",
    "\n",
    "slack_app = SlackMessageRetriever(env_name=\"SLACK_TOKEN_BOT\")\n",
    "bigquery_client = BigqueryProcessor(\n",
    "    env_name=\"GOOGLE_APPLICATION_CREDENTIALS\", database_id=\"geultto_9th\"\n",
    ")\n",
    "user_pd = bigquery_client.run_query_to_dataframe(\n",
    "    query=\"\"\"\n",
    "    SELECT SUM(cnt_emoji) AS total_emoji\n",
    "        , SUM(cnt_post) AS total_post\n",
    "        , SUM(cnt_thread) AS total_thread     \n",
    "    FROM (\n",
    "    SELECT users.*\n",
    "        , cnt_emoji \n",
    "        , cnt_post\n",
    "        , cnt_thread\n",
    "    FROM `geultto.geultto_9th.users` AS users\n",
    "    LEFT JOIN (\n",
    "        SELECT '이모지수' AS group_name\n",
    "            , user_id\n",
    "            , COUNT(*) cnt_emoji\n",
    "        FROM (\n",
    "        SELECT JSON_EXTRACT_SCALAR(json, '$.name') AS name\n",
    "            , REPLACE(user_id, '\"', \"\") AS user_id\n",
    "        FROM `geultto.geultto_9th.slack_conversation_master`,\n",
    "        UNNEST(JSON_EXTRACT_ARRAY(reactions)) AS json,\n",
    "        UNNEST(JSON_EXTRACT_ARRAY(json, '$.user_id')) AS user_id \n",
    "        WHERE tddate <= '2023-12-24'\n",
    "        ) A\n",
    "        GROUP BY user_id\n",
    "    ) emoji_cnt\n",
    "    ON users.user_id = emoji_cnt.user_id\n",
    "    LEFT JOIN (\n",
    "        SELECT user_id\n",
    "            , COUNT(*) cnt_post\n",
    "        FROM `geultto.geultto_9th.slack_conversation_master`\n",
    "        WHERE tddate <= '2023-12-24'\n",
    "        AND message_type = 'post'\n",
    "        AND (text not like ('%님이 채널에 참여함%') AND text not like ('%integration to this channel%'))\n",
    "        GROUP BY user_id\n",
    "    ) post_cnt\n",
    "    ON users.user_id = post_cnt.user_id\n",
    "    LEFT JOIN (\n",
    "        SELECT user_id\n",
    "            , COUNT(*) cnt_thread\n",
    "        FROM `geultto.geultto_9th.slack_conversation_master`\n",
    "        WHERE tddate <= '2023-12-24'\n",
    "        AND message_type = 'thread'\n",
    "        GROUP BY user_id  \n",
    "    ) thread_cnt\n",
    "    ON users.user_id = thread_cnt.user_id\n",
    "    ) A\n",
    "    \"\"\"\n",
    ")\n",
    "\n",
    "user_pd.head()"
   ]
  },
  {
   "cell_type": "code",
   "execution_count": 3,
   "metadata": {},
   "outputs": [
    {
     "data": {
      "text/plain": [
       "82791"
      ]
     },
     "execution_count": 3,
     "metadata": {},
     "output_type": "execute_result"
    }
   ],
   "source": [
    "user_pd['total_emoji'][0]"
   ]
  },
  {
   "cell_type": "code",
   "execution_count": 2,
   "metadata": {},
   "outputs": [],
   "source": [
    "# for _, row in user_pd.loc[(user_pd['name'].isin(['이승환', '김유경']))].head().iterrows():\n",
    "#     print(row[0], row[1], row[2], row[3], row[4], row[5])"
   ]
  },
  {
   "cell_type": "code",
   "execution_count": 27,
   "metadata": {},
   "outputs": [],
   "source": [
    "def process_row(row):\n",
    "    text = row['text'][:80]  # 텍스트의 첫 30자\n",
    "    link = row['permalink']\n",
    "    emoji_count = row['total_emoji_count']\n",
    "    return f\"\"\"텍스트: {text}..., \n",
    "게시글링크: {link}, \n",
    "총 이모지 개수: {emoji_count}\"\"\""
   ]
  },
  {
   "cell_type": "code",
   "execution_count": 28,
   "metadata": {},
   "outputs": [],
   "source": [
    "slack_messages = [process_row(row) for index, row in user_pd.iterrows()]"
   ]
  },
  {
   "cell_type": "code",
   "execution_count": 29,
   "metadata": {},
   "outputs": [
    {
     "name": "stdout",
     "output_type": "stream",
     "text": [
      "텍스트: &gt; :sunflower: *외향적인 해바라기* 님이 *2023. 12. 11. 오후 12:47:17* 에 등록한 메시지입니다.  비도 오고..., \n",
      "게시글링크: https://geultto9.slack.com/archives/C066SQT5MBK/p1702266437425269, \n",
      "총 이모지 개수: 61\n",
      "\n",
      "텍스트: &gt; :octopus: *유순한 문어* 님이 *2023. 12. 15. 오후 12:26:34* 에 등록한 메시지입니다.  정말 대나무 숲에 ..., \n",
      "게시글링크: https://geultto9.slack.com/archives/C066SQT5MBK/p1702610794259859?thread_ts=1702610794.259859&cid=C066SQT5MBK, \n",
      "총 이모지 개수: 50\n",
      "\n",
      "텍스트: @까다로운 원숭이\n",
      "\n",
      "다른 직업 고민해보시죠라는 댓글은 폭력적인 댓글 같아요. 제멋대로 꿀벌님의 메시지의 핵심은 \"코테를 못봐서 속상하다. 위로를..., \n",
      "게시글링크: https://geultto9.slack.com/archives/C066SQT5MBK/p1702795770565269?thread_ts=1702725481.766149&cid=C066SQT5MBK, \n",
      "총 이모지 개수: 41\n",
      "\n",
      "텍스트: &gt; :butterfly: *미소짓는 나비* 님이 *2023. 12. 17. 오후 4:04:49* 에 등록한 메시지입니다.  헤어졌어요. 정..., \n",
      "게시글링크: https://geultto9.slack.com/archives/C066SQT5MBK/p1702796689485639?thread_ts=1702796689.485639&cid=C066SQT5MBK, \n",
      "총 이모지 개수: 36\n",
      "\n",
      "텍스트: &gt; :wolf: *격노한 늑대* 님이 *2023. 12. 18. 오후 3:31:42* 에 등록한 메시지입니다.  안녕하세요. 현재 4년 차..., \n",
      "게시글링크: https://geultto9.slack.com/archives/C066SQT5MBK/p1702881102156479?thread_ts=1702881102.156479&cid=C066SQT5MBK, \n",
      "총 이모지 개수: 29\n"
     ]
    }
   ],
   "source": [
    "slack_message = \"\\n\\n\".join(slack_messages)\n",
    "print(slack_message)"
   ]
  },
  {
   "cell_type": "code",
   "execution_count": 30,
   "metadata": {},
   "outputs": [
    {
     "name": "stdout",
     "output_type": "stream",
     "text": [
      "0\n",
      "1\n",
      "3\n",
      "4\n",
      "5\n",
      "6\n",
      "7\n",
      "8\n",
      "9\n"
     ]
    }
   ],
   "source": [
    "for i in range(0, 10):\n",
    "    if i == 2:\n",
    "        continue\n",
    "    print(i)"
   ]
  },
  {
   "cell_type": "code",
   "execution_count": null,
   "metadata": {},
   "outputs": [],
   "source": []
  },
  {
   "cell_type": "markdown",
   "metadata": {},
   "source": [
    "# 라이브러리 세팅"
   ]
  },
  {
   "cell_type": "code",
   "execution_count": 1,
   "metadata": {},
   "outputs": [],
   "source": [
    "import os\n",
    "from typing import List, Dict\n",
    "import json\n",
    "from datetime import datetime\n",
    "import ssl\n",
    "import certifi\n",
    "import time\n",
    "\n",
    "import pandas as pd\n",
    "from slack_sdk import WebClient\n",
    "from slack_bolt import App\n",
    "\n",
    "from datetime import datetime\n",
    "from dateutil.relativedelta import relativedelta\n",
    "\n",
    "from core.date_utils import get_daily_datelist"
   ]
  },
  {
   "cell_type": "markdown",
   "metadata": {},
   "source": [
    "# 슬랙앱 & 날짜 함수 세팅"
   ]
  },
  {
   "cell_type": "code",
   "execution_count": 2,
   "metadata": {},
   "outputs": [],
   "source": [
    "token = os.environ.get(\"SLACK_TOKEN_USER\")\n",
    "ssl_context = ssl.create_default_context(cafile=certifi.where())\n",
    "app = App(client=WebClient(token=token, ssl=ssl_context))"
   ]
  },
  {
   "cell_type": "code",
   "execution_count": 3,
   "metadata": {},
   "outputs": [],
   "source": [
    "def timestamp_to_unixtime(sdatetime: datetime) -> list:\n",
    "    sdatetime_minus1 = sdatetime + relativedelta(days=-1)\n",
    "    start_unixtime = time.mktime((sdatetime_minus1).timetuple())\n",
    "    end_unixtime = time.mktime(sdatetime.timetuple()) - 1e-6  # 23:59:59 99999 까지\n",
    "    return [start_unixtime, end_unixtime]"
   ]
  },
  {
   "cell_type": "code",
   "execution_count": 4,
   "metadata": {},
   "outputs": [
    {
     "name": "stdout",
     "output_type": "stream",
     "text": [
      "[datetime.datetime(2024, 1, 11, 0, 0)]\n"
     ]
    }
   ],
   "source": [
    "test_date = get_daily_datelist(start_date=\"2024-01-11\", end_date=\"2024-01-11\")\n",
    "print(test_date)"
   ]
  },
  {
   "cell_type": "code",
   "execution_count": 5,
   "metadata": {},
   "outputs": [
    {
     "name": "stdout",
     "output_type": "stream",
     "text": [
      "[1704812400.0, 1704898799.999999]\n"
     ]
    }
   ],
   "source": [
    "unixtime_set = timestamp_to_unixtime(sdatetime=test_date[0])\n",
    "print(unixtime_set)"
   ]
  },
  {
   "cell_type": "markdown",
   "metadata": {},
   "source": [
    "# post & thread 세팅하기"
   ]
  },
  {
   "cell_type": "code",
   "execution_count": 34,
   "metadata": {},
   "outputs": [],
   "source": [
    "channel_id = 'C066AQH75EZ'"
   ]
  },
  {
   "cell_type": "code",
   "execution_count": 35,
   "metadata": {},
   "outputs": [],
   "source": [
    "posts = app.client.conversations_history(\n",
    "    channel=channel_id,\n",
    "    latest=unixtime_set[1],\n",
    "    oldest=unixtime_set[0],\n",
    ")"
   ]
  },
  {
   "cell_type": "code",
   "execution_count": 46,
   "metadata": {},
   "outputs": [
    {
     "data": {
      "text/plain": [
       "dict_keys(['type', 'subtype', 'text', 'ts', 'username', 'bot_id', 'attachments', 'reactions'])"
      ]
     },
     "execution_count": 46,
     "metadata": {},
     "output_type": "execute_result"
    }
   ],
   "source": [
    "target_post = posts['messages']"
   ]
  },
  {
   "cell_type": "code",
   "execution_count": 47,
   "metadata": {},
   "outputs": [
    {
     "data": {
      "text/plain": [
       "True"
      ]
     },
     "execution_count": 47,
     "metadata": {},
     "output_type": "execute_result"
    }
   ],
   "source": [
    "'user' not in target_post[5].keys()"
   ]
  },
  {
   "cell_type": "code",
   "execution_count": 10,
   "metadata": {},
   "outputs": [],
   "source": [
    "target_ts = '1700403928.943909'"
   ]
  },
  {
   "cell_type": "code",
   "execution_count": 11,
   "metadata": {},
   "outputs": [],
   "source": [
    "# threads = app.client.conversations_replies(channel=channel_id, ts=target_ts)['messages']\n",
    "# threads[1]"
   ]
  },
  {
   "cell_type": "code",
   "execution_count": 12,
   "metadata": {},
   "outputs": [],
   "source": [
    "# thread_ts = 1701005898.099139"
   ]
  },
  {
   "cell_type": "markdown",
   "metadata": {},
   "source": [
    "# replies 테스트하기"
   ]
  },
  {
   "cell_type": "code",
   "execution_count": 16,
   "metadata": {},
   "outputs": [
    {
     "data": {
      "text/plain": [
       "102"
      ]
     },
     "execution_count": 16,
     "metadata": {},
     "output_type": "execute_result"
    }
   ],
   "source": [
    "# post테스트 완료\n",
    "reactions_post = app.client.reactions_get(channel=channel_id, timestamp=target_ts, full=True)['message']\n",
    "len(reactions_post['reactions'][0]['users'])\n"
   ]
  },
  {
   "cell_type": "code",
   "execution_count": 20,
   "metadata": {},
   "outputs": [
    {
     "data": {
      "text/plain": [
       "[{'name': 'wave',\n",
       "  'users': ['U066GPP3G20',\n",
       "   'U066DKSRHQT',\n",
       "   'U066E7MDTNF',\n",
       "   'U066G6JPL3E',\n",
       "   'U066T00QN65',\n",
       "   'U0673AGGK5W',\n",
       "   'U066GPLUQLC',\n",
       "   'U066T053D8R',\n",
       "   'U0667MM8WMC',\n",
       "   'U066BD3DN2Z',\n",
       "   'U0673ANED16',\n",
       "   'U0667MSP9JS',\n",
       "   'U066E899M8T',\n",
       "   'U066SBYNGE5',\n",
       "   'U066AQSBRPF',\n",
       "   'U065ZR8FXAT',\n",
       "   'U066BDJJF7F',\n",
       "   'U066E8RBDUK',\n",
       "   'U06673WKMHU',\n",
       "   'U066BDY5761',\n",
       "   'U066BDWJKRT',\n",
       "   'U066GRCCLRJ',\n",
       "   'U066SV8A5JM',\n",
       "   'U066BEE9NCV',\n",
       "   'U065ZQAUAMV',\n",
       "   'U066T1LT7DX',\n",
       "   'U066E9SAK4K',\n",
       "   'U066GS3A04C',\n",
       "   'U066T217U2V',\n",
       "   'U065ZSLK423',\n",
       "   'U0673C9QQ3S',\n",
       "   'U0667RQ643Y',\n",
       "   'U066E7U9QFM',\n",
       "   'U06673WCJP8',\n",
       "   'U06683Y8XRU',\n",
       "   'U066H9M177E',\n",
       "   'U066EPLNNM9',\n",
       "   'U06687X2E4W',\n",
       "   'U066AQRV0E9',\n",
       "   'U0672NB1EN4',\n",
       "   'U066ET8CMFC',\n",
       "   'U0673SAU2L8',\n",
       "   'U0673V7JAAC',\n",
       "   'U066EV6EKJN',\n",
       "   'U066GPMRG9J',\n",
       "   'U0660FU6MRD',\n",
       "   'U066TKHCF4Z',\n",
       "   'U0660GKF2TH',\n",
       "   'U06742Z2P6U',\n",
       "   'U066T0TBX6D',\n",
       "   'U0674490K40',\n",
       "   'U066EUM5U0K',\n",
       "   'U0660JWQ9RD',\n",
       "   'U066SV1JDU1',\n",
       "   'U066F5FQF6F',\n",
       "   'U0668K32TD4',\n",
       "   'U066EATSX6F',\n",
       "   'U066F6ETVM1',\n",
       "   'U0668CZJU6A',\n",
       "   'U066HNC14JG',\n",
       "   'U066F9ZBG82',\n",
       "   'U0660RDQAGP',\n",
       "   'U066F22RGTV',\n",
       "   'U066U5ZJ049',\n",
       "   'U0668U6PUP8',\n",
       "   'U066HE2Q6GL',\n",
       "   'U066FT6EG58',\n",
       "   'U066DHN2QAH',\n",
       "   'U0675QJB33J',\n",
       "   'U0676062H6C',\n",
       "   'U066E7XMLTX',\n",
       "   'U066HJ30BGT',\n",
       "   'U066T3KPT9P',\n",
       "   'U066W0MJDLZ',\n",
       "   'U066F3ZCE3X',\n",
       "   'U066BG8REJJ',\n",
       "   'U0663KP6G1M',\n",
       "   'U066JMNE02X',\n",
       "   'U066E7PV17D',\n",
       "   'U066ETELC3V',\n",
       "   'U066QM7FDD0',\n",
       "   'U066RL3S3B4',\n",
       "   'U066TFU564S',\n",
       "   'U066JB7P5UL',\n",
       "   'U066TGN8L0K',\n",
       "   'U066EC407M1',\n",
       "   'U066WQVNMNX',\n",
       "   'U066EA4QCAX',\n",
       "   'U06703Z1P7C',\n",
       "   'U067CPKEXQ9',\n",
       "   'U0673CUCLP6',\n",
       "   'U067GQ01YKT',\n",
       "   'U0676NJMZ6G',\n",
       "   'U067HA6ANNM',\n",
       "   'U066Y2GULDC',\n",
       "   'U066Y8HE8R4',\n",
       "   'U0675JNDAJ1',\n",
       "   'U066MCGHQKZ',\n",
       "   'U067BNHHV3N',\n",
       "   'U066UGGJGTT',\n",
       "   'U066K2JUU0L',\n",
       "   'U066F4TDA6N'],\n",
       "  'count': 102},\n",
       " {'name': 'white_check_mark',\n",
       "  'users': ['U0666UTKF8W',\n",
       "   'U065Z72CWBZ',\n",
       "   'U066DKSRHQT',\n",
       "   'U066E7MDTNF',\n",
       "   'U066G6JPL3E',\n",
       "   'U0673AGGK5W',\n",
       "   'U066T053D8R',\n",
       "   'U0673A8DEQG',\n",
       "   'U066EADP8QJ',\n",
       "   'U066BD3DN2Z',\n",
       "   'U0673ANED16',\n",
       "   'U0667MSP9JS',\n",
       "   'U066E899M8T',\n",
       "   'U066SBYNGE5',\n",
       "   'U066AQSBRPF',\n",
       "   'U065ZR8FXAT',\n",
       "   'U066BDJJF7F',\n",
       "   'U066E8RBDUK',\n",
       "   'U06673WKMHU',\n",
       "   'U066G6K1C4U',\n",
       "   'U066BDWJKRT',\n",
       "   'U066SV8A5JM',\n",
       "   'U065ZQAUAMV',\n",
       "   'U066T1LT7DX',\n",
       "   'U066T217U2V',\n",
       "   'U065ZSLK423',\n",
       "   'U0673C9QQ3S',\n",
       "   'U0667RQ643Y',\n",
       "   'U066E7U9QFM',\n",
       "   'U06683Y8XRU',\n",
       "   'U066EPJEHQA',\n",
       "   'U066EPLNNM9',\n",
       "   'U06687X2E4W',\n",
       "   'U065ZQ1480P',\n",
       "   'U066AQRV0E9',\n",
       "   'U0672NB1EN4',\n",
       "   'U066DNRD03C',\n",
       "   'U0673SAU2L8',\n",
       "   'U0673V7JAAC',\n",
       "   'U066GPMRG9J',\n",
       "   'U066F05TDNW',\n",
       "   'U0667LWA85C',\n",
       "   'U0660FU6MRD',\n",
       "   'U066TKHCF4Z',\n",
       "   'U066T0B5AP3',\n",
       "   'U06742Z2P6U',\n",
       "   'U066F3CPX6W',\n",
       "   'U066T0TBX6D',\n",
       "   'U0674490K40',\n",
       "   'U066EUM5U0K',\n",
       "   'U0660JWQ9RD',\n",
       "   'U066SV1JDU1',\n",
       "   'U0668K32TD4',\n",
       "   'U066F6ETVM1',\n",
       "   'U0668CZJU6A',\n",
       "   'U06739RVBH6',\n",
       "   'U066HNC14JG',\n",
       "   'U066F9ZBG82',\n",
       "   'U0660RDQAGP',\n",
       "   'U066F22RGTV',\n",
       "   'U0668U6PUP8',\n",
       "   'U066SV3LEE5',\n",
       "   'U0667M2M3D4',\n",
       "   'U066J4E2RDJ',\n",
       "   'U066ESZ4ND9',\n",
       "   'U066G5TF69G',\n",
       "   'U066UB6G14Z',\n",
       "   'U066HJ30BGT',\n",
       "   'U066T3KPT9P',\n",
       "   'U066W0MJDLZ',\n",
       "   'U0663KP6G1M',\n",
       "   'U066JMNE02X',\n",
       "   'U066E7PV17D',\n",
       "   'U066GNLQSLA',\n",
       "   'U066QM7FDD0',\n",
       "   'U0667LKJ4R4',\n",
       "   'U066TFU564S',\n",
       "   'U066JB7P5UL',\n",
       "   'U066EA4QCAX',\n",
       "   'U06703Z1P7C',\n",
       "   'U067CPKEXQ9',\n",
       "   'U066HHPJAAE',\n",
       "   'U067GQ01YKT',\n",
       "   'U0677737Y2Y',\n",
       "   'U066Y2GULDC',\n",
       "   'U066Y8HE8R4',\n",
       "   'U066MCGHQKZ',\n",
       "   'U066UGGJGTT',\n",
       "   'U0674MCBWQ0'],\n",
       "  'count': 89},\n",
       " {'name': 'raised_hands',\n",
       "  'users': ['U065Z72CWBZ',\n",
       "   'U066DKSRHQT',\n",
       "   'U066E7MDTNF',\n",
       "   'U066G6JPL3E',\n",
       "   'U066T053D8R',\n",
       "   'U066BD3DN2Z',\n",
       "   'U0673ANED16',\n",
       "   'U0667MSP9JS',\n",
       "   'U066SBYNGE5',\n",
       "   'U066AQSBRPF',\n",
       "   'U065ZR8FXAT',\n",
       "   'U066E8RBDUK',\n",
       "   'U066BDWJKRT',\n",
       "   'U066SV8A5JM',\n",
       "   'U065ZQAUAMV',\n",
       "   'U066T1LT7DX',\n",
       "   'U066T217U2V',\n",
       "   'U065ZSLK423',\n",
       "   'U0673C9QQ3S',\n",
       "   'U0667RQ643Y',\n",
       "   'U066E7U9QFM',\n",
       "   'U06683Y8XRU',\n",
       "   'U06687X2E4W',\n",
       "   'U066AQRV0E9',\n",
       "   'U0672NB1EN4',\n",
       "   'U0673SAU2L8',\n",
       "   'U0673V7JAAC',\n",
       "   'U0660FU6MRD',\n",
       "   'U066TKHCF4Z',\n",
       "   'U0673AFALD6',\n",
       "   'U06742Z2P6U',\n",
       "   'U066T0TBX6D',\n",
       "   'U0674490K40',\n",
       "   'U066EUM5U0K',\n",
       "   'U066SV1JDU1',\n",
       "   'U0668K32TD4',\n",
       "   'U066F6ETVM1',\n",
       "   'U0668CZJU6A',\n",
       "   'U066HNC14JG',\n",
       "   'U066F9ZBG82',\n",
       "   'U0660RDQAGP',\n",
       "   'U066F22RGTV',\n",
       "   'U0668U6PUP8',\n",
       "   'U066HJ30BGT',\n",
       "   'U066W0MJDLZ',\n",
       "   'U0663KP6G1M',\n",
       "   'U066JMNE02X',\n",
       "   'U066JB7P5UL',\n",
       "   'U066EA4QCAX',\n",
       "   'U06703Z1P7C',\n",
       "   'U067CPKEXQ9',\n",
       "   'U066HHPJAAE',\n",
       "   'U066Y8HE8R4',\n",
       "   'U066UGGJGTT'],\n",
       "  'count': 54},\n",
       " {'name': 'eyes',\n",
       "  'users': ['U066E7RNL83',\n",
       "   'U066BDWJKRT',\n",
       "   'U065ZQAUAMV',\n",
       "   'U0673C9QQ3S',\n",
       "   'U06683Y8XRU',\n",
       "   'U06687X2E4W',\n",
       "   'U066AQRV0E9',\n",
       "   'U0673V7JAAC',\n",
       "   'U0660FU6MRD',\n",
       "   'U06742Z2P6U',\n",
       "   'U066T0TBX6D',\n",
       "   'U0674490K40',\n",
       "   'U066EUM5U0K',\n",
       "   'U066SV1JDU1',\n",
       "   'U066T1LT7DX',\n",
       "   'U0668K32TD4',\n",
       "   'U066F6ETVM1',\n",
       "   'U066HNC14JG',\n",
       "   'U0660RDQAGP',\n",
       "   'U0668QLHKML',\n",
       "   'U066F22RGTV',\n",
       "   'U066HJ30BGT',\n",
       "   'U066W0MJDLZ',\n",
       "   'U0663KP6G1M',\n",
       "   'U066JMNE02X',\n",
       "   'U066JB7P5UL',\n",
       "   'U065ZR8FXAT',\n",
       "   'U066EA4QCAX',\n",
       "   'U06703Z1P7C',\n",
       "   'U066Y8HE8R4',\n",
       "   'U066UGGJGTT'],\n",
       "  'count': 31},\n",
       " {'name': 'slack',\n",
       "  'users': ['U066HKZTP60',\n",
       "   'U0668K32TD4',\n",
       "   'U066HNC14JG',\n",
       "   'U066F22RGTV',\n",
       "   'U066HJ30BGT',\n",
       "   'U066JMNE02X',\n",
       "   'U065ZR8FXAT',\n",
       "   'U066EA4QCAX',\n",
       "   'U067CPKEXQ9',\n",
       "   'U066Y8HE8R4',\n",
       "   'U066UGGJGTT'],\n",
       "  'count': 11}]"
      ]
     },
     "execution_count": 20,
     "metadata": {},
     "output_type": "execute_result"
    }
   ],
   "source": [
    "reactions_post['reactions']"
   ]
  },
  {
   "cell_type": "code",
   "execution_count": 57,
   "metadata": {},
   "outputs": [
    {
     "data": {
      "text/plain": [
       "{'client_msg_id': '95d3f704-36bf-4779-bd68-114e4d894da1',\n",
       " 'type': 'message',\n",
       " 'text': '<@U06790T7S2E> 이모지 확인해줘',\n",
       " 'user': 'U0666UTKF8W',\n",
       " 'ts': '1701005898.099139',\n",
       " 'blocks': [{'type': 'rich_text',\n",
       "   'block_id': 'zpwVA',\n",
       "   'elements': [{'type': 'rich_text_section',\n",
       "     'elements': [{'type': 'user', 'user_id': 'U06790T7S2E'},\n",
       "      {'type': 'text', 'text': ' 이모지 확인해줘'}]}]}],\n",
       " 'team': 'T066AL99EE9',\n",
       " 'thread_ts': '1701003194.380469',\n",
       " 'parent_user_id': 'U0666UTKF8W',\n",
       " 'reactions': [{'name': 'snail',\n",
       "   'users': ['U066HRY5AF6',\n",
       "    'U066UGGJGTT',\n",
       "    'U067Q2P1AN4',\n",
       "    'U066SV3JQE5',\n",
       "    'U0667RQ643Y',\n",
       "    'U0676062H6C',\n",
       "    'U066WMSAJLR',\n",
       "    'U066BCCJCAH',\n",
       "    'U066SV1JDU1',\n",
       "    'U066T053D8R',\n",
       "    'U0660RDQAGP',\n",
       "    'U06745JC3TJ',\n",
       "    'U066GQ0UNA0',\n",
       "    'U065ZQAUAMV',\n",
       "    'U066W0MJDLZ',\n",
       "    'U066CC2M38D',\n",
       "    'U066SV2BHCH',\n",
       "    'U066GR3NS76',\n",
       "    'U067233613M',\n",
       "    'U0673SAU2L8',\n",
       "    'U0667LKJ4R4',\n",
       "    'U067430ASAC',\n",
       "    'U066EATSX6F',\n",
       "    'U066W72QJRF',\n",
       "    'U066T0NBEG1',\n",
       "    'U0676NXUX3J',\n",
       "    'U066EA99C8K',\n",
       "    'U065ZQGNBF1',\n",
       "    'U066EB0AY2E',\n",
       "    'U066BAZ8DML',\n",
       "    'U066TJDTRMF',\n",
       "    'U0674SVC410',\n",
       "    'U066F1ZF7JP',\n",
       "    'U066G6K3HRA',\n",
       "    'U0675L6RFC0',\n",
       "    'U067GR1R0GH',\n",
       "    'U0674490K40',\n",
       "    'U066F5FQF6F',\n",
       "    'U066HN3911A',\n",
       "    'U065Z72CWBZ',\n",
       "    'U06696Y4C8P',\n",
       "    'U065ZQ5N7SB',\n",
       "    'U066SV1Q3R7',\n",
       "    'U066ETP2R8A',\n",
       "    'U066EV0D6AW',\n",
       "    'U066F22RGTV',\n",
       "    'U066E7RNL83',\n",
       "    'U066J3VBZAQ',\n",
       "    'U066RL3S3B4',\n",
       "    'U066HNC14JG',\n",
       "    'U066JNWRD1T',\n",
       "    'U066Y2GULDC',\n",
       "    'U067HA6ANNM',\n",
       "    'U066GR9SS5S',\n",
       "    'U0673A2NT6C',\n",
       "    'U066FH2DGSH',\n",
       "    'U066HE2Q6GL',\n",
       "    'U066E7MDTNF',\n",
       "    'U066GPMRG9J',\n",
       "    'U066ER2SZ4K',\n",
       "    'U06739XPUC8',\n",
       "    'U0667MSP9JS',\n",
       "    'U0673MAPL9W',\n",
       "    'U066TGALNTB',\n",
       "    'U066HUS6H4L',\n",
       "    'U065ZR8FXAT',\n",
       "    'U066ESZ4ND9',\n",
       "    'U066T3KPT9P',\n",
       "    'U066EMPA56J',\n",
       "    'U066MCGHQKZ',\n",
       "    'U066UB6G14Z',\n",
       "    'U067HA6NAQH',\n",
       "    'U066HPLV92Q',\n",
       "    'U066BCHLTT7',\n",
       "    'U066HGF95S6',\n",
       "    'U066EUM5U0K',\n",
       "    'U066FBXKGF5',\n",
       "    'U066HHPJAAE',\n",
       "    'U066T1LT7DX',\n",
       "    'U066EAE5S10',\n",
       "    'U066AQSBB1T',\n",
       "    'U066GRQ7ZRS',\n",
       "    'U066AQSC78D',\n",
       "    'U0660KZNVP1',\n",
       "    'U0670LL7YAX',\n",
       "    'U0675JNDAJ1',\n",
       "    'U066EA4QCAX',\n",
       "    'U066EC7CNKC',\n",
       "    'U066FJF3VS7',\n",
       "    'U066HDEGD0C',\n",
       "    'U066HJ30BGT',\n",
       "    'U066F3R501Z',\n",
       "    'U066F8JGXBM',\n",
       "    'U06695KRPJS',\n",
       "    'U066H0K9GBV',\n",
       "    'U067HGZUV40',\n",
       "    'U066Y3XHLCW',\n",
       "    'U065ZSLK423',\n",
       "    'U066GPP3G20',\n",
       "    'U067TPBJ7NC',\n",
       "    'U0667LRLL86',\n",
       "    'U066F05TDNW',\n",
       "    'U066DF00H7X',\n",
       "    'U0674S0693J',\n",
       "    'U066AQRV0E9',\n",
       "    'U066HDC62DS',\n",
       "    'U0670B22F4N'],\n",
       "   'count': 107}],\n",
       " 'permalink': 'https://geultto9.slack.com/archives/C0667GPQ1F0/p1701005898099139?thread_ts=1701003194.380469&cid=C0667GPQ1F0'}"
      ]
     },
     "execution_count": 57,
     "metadata": {},
     "output_type": "execute_result"
    }
   ],
   "source": [
    "# post테스트 완료\n",
    "reactions_thread = app.reactions_get(channel=channel_id, timestamp=thread_ts, full=True)['message']\n",
    "reactions_thread\n"
   ]
  },
  {
   "cell_type": "markdown",
   "metadata": {},
   "source": [
    "# 링크 테스트"
   ]
  },
  {
   "cell_type": "code",
   "execution_count": 71,
   "metadata": {},
   "outputs": [
    {
     "data": {
      "text/plain": [
       "'https://geultto9.slack.com/archives/C0667GPQ1F0/p1701003194380469?thread_ts=1701003194.380469&cid=C0667GPQ1F0'"
      ]
     },
     "execution_count": 71,
     "metadata": {},
     "output_type": "execute_result"
    }
   ],
   "source": [
    "get_link = app.client.chat_getPermalink(channel=channel_id, message_ts=target_ts)\n",
    "get_link['permalink']"
   ]
  },
  {
   "cell_type": "code",
   "execution_count": null,
   "metadata": {},
   "outputs": [],
   "source": []
  }
 ],
 "metadata": {
  "kernelspec": {
   "display_name": "analysis",
   "language": "python",
   "name": "python3"
  },
  "language_info": {
   "codemirror_mode": {
    "name": "ipython",
    "version": 3
   },
   "file_extension": ".py",
   "mimetype": "text/x-python",
   "name": "python",
   "nbconvert_exporter": "python",
   "pygments_lexer": "ipython3",
   "version": "3.9.16"
  }
 },
 "nbformat": 4,
 "nbformat_minor": 2
}
