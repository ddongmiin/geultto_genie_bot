{
 "cells": [
  {
   "cell_type": "code",
   "execution_count": 1,
   "metadata": {},
   "outputs": [],
   "source": [
    "import os\n",
    "import time\n",
    "import json\n",
    "from datetime import datetime\n",
    "from dateutil.relativedelta import relativedelta\n",
    "\n",
    "import pandas as pd\n",
    "from pandas_gbq import to_gbq\n",
    "from google.cloud import bigquery\n",
    "from google.oauth2 import service_account\n",
    "\n",
    "from module.bigquery import BigqueryProcessor\n",
    "from module.slack import SlackMessageRetriever\n"
   ]
  },
  {
   "cell_type": "code",
   "execution_count": 2,
   "metadata": {},
   "outputs": [
    {
     "data": {
      "text/plain": [
       "'2023-05-21'"
      ]
     },
     "execution_count": 2,
     "metadata": {},
     "output_type": "execute_result"
    }
   ],
   "source": [
    "datetime.today().strftime(\"%Y-%m-%d\")"
   ]
  },
  {
   "cell_type": "code",
   "execution_count": 3,
   "metadata": {},
   "outputs": [],
   "source": [
    "# 인스턴스 생성\n",
    "bigquery_client = BigqueryProcessor(\n",
    "    env_name=\"GOOGLE_APPLICATION_CREDENTIALS\", database_id=\"geultto_8th\"\n",
    ")\n",
    "slack_app = SlackMessageRetriever(env_name=\"SLACK_TOKEN\")"
   ]
  },
  {
   "cell_type": "code",
   "execution_count": 4,
   "metadata": {},
   "outputs": [],
   "source": [
    "where_clause = \"tddate >= '2023-01-24' and tddate <= '2023-05-16'\"\n",
    "df = bigquery_client.read_table(table_name='slack_conversation', where_clause=where_clause)"
   ]
  },
  {
   "cell_type": "code",
   "execution_count": 5,
   "metadata": {},
   "outputs": [
    {
     "data": {
      "text/plain": [
       "5179"
      ]
     },
     "execution_count": 5,
     "metadata": {},
     "output_type": "execute_result"
    }
   ],
   "source": [
    "len(df.loc[(df.message_type == 'post'), 'createtime'].unique())"
   ]
  },
  {
   "cell_type": "code",
   "execution_count": 19,
   "metadata": {},
   "outputs": [
    {
     "data": {
      "text/plain": [
       "channel_id                                             C04LMFQ95DM\n",
       "message_type                                                thread\n",
       "post_id                     U04L5NJLUVB-2023-02-20-10-12-42-373849\n",
       "user_id                                                U04KU62DJTZ\n",
       "createtime                              2023-02-20 10:46:49.872399\n",
       "tddate                                                  2023-02-20\n",
       "text                  이해했습니다! 설명해주셔서 감사합니다 :slightly_smiling_face:\n",
       "reactions        [{\"name\": \"raised_hands\", \"user_id\": [\"U04L5NJ...\n",
       "createtime_v2                     2023-02-20 01:46:49.872399+00:00\n",
       "unixtime_1                                       1676890009.872399\n",
       "unixtime_2                                       1676857609.872399\n",
       "Name: 70, dtype: object"
      ]
     },
     "execution_count": 19,
     "metadata": {},
     "output_type": "execute_result"
    }
   ],
   "source": [
    "df.iloc[70, ]"
   ]
  },
  {
   "cell_type": "code",
   "execution_count": 5,
   "metadata": {},
   "outputs": [],
   "source": [
    "df['createtime_v2'] = df['createtime'].dt.tz_localize('Asia/Seoul').dt.tz_convert('UTC')\n",
    "df['unixtime_1'] = df['createtime'].astype('int64') / 1e9\n",
    "df['unixtime_2'] = df['createtime_v2'].astype('int64') / 1e9"
   ]
  },
  {
   "cell_type": "code",
   "execution_count": 8,
   "metadata": {},
   "outputs": [
    {
     "data": {
      "text/plain": [
       "1577804400.0"
      ]
     },
     "execution_count": 8,
     "metadata": {},
     "output_type": "execute_result"
    }
   ],
   "source": [
    "time.mktime(datetime(2020, 1, 1).timetuple())"
   ]
  },
  {
   "cell_type": "code",
   "execution_count": 8,
   "metadata": {},
   "outputs": [
    {
     "name": "stdout",
     "output_type": "stream",
     "text": [
      "2023-02-20 10:46:49.872399\n",
      "1676890009.872399\n",
      "2023-02-20 01:46:49.872399+00:00\n",
      "1676857609.872399\n",
      "2023-02-20 19:46:49.872399\n",
      "2023-02-20 10:46:49.872399\n"
     ]
    }
   ],
   "source": [
    "print(df['createtime'][70])\n",
    "print(df['unixtime_1'][70])\n",
    "print(df['createtime_v2'][70])\n",
    "print(df['unixtime_2'][70])\n",
    "print(datetime.fromtimestamp(1676890009.872399))\n",
    "print(datetime.fromtimestamp(1676857609.872399))"
   ]
  },
  {
   "cell_type": "code",
   "execution_count": 49,
   "metadata": {},
   "outputs": [
    {
     "data": {
      "text/plain": [
       "1682422863.550789"
      ]
     },
     "execution_count": 49,
     "metadata": {},
     "output_type": "execute_result"
    }
   ],
   "source": [
    "df.loc[(df.post_id == 'U04LRNDS67J-2023-04-25-20-41-03-550789') & (df.message_type == 'post'), ]['unixtime'].tolist()[0]"
   ]
  },
  {
   "cell_type": "code",
   "execution_count": 50,
   "metadata": {},
   "outputs": [
    {
     "name": "stdout",
     "output_type": "stream",
     "text": [
      "2023-04-25 20:41:03.550789\n"
     ]
    }
   ],
   "source": [
    "print(datetime.fromtimestamp(1682422863.550789))"
   ]
  },
  {
   "cell_type": "code",
   "execution_count": 51,
   "metadata": {},
   "outputs": [],
   "source": [
    "slack_app = SlackMessageRetriever(env_name=\"SLACK_TOKEN\")"
   ]
  },
  {
   "cell_type": "code",
   "execution_count": 53,
   "metadata": {},
   "outputs": [
    {
     "data": {
      "text/plain": [
       "1682348400.0"
      ]
     },
     "execution_count": 53,
     "metadata": {},
     "output_type": "execute_result"
    }
   ],
   "source": [
    "datetime(2023, 4, 25).timestamp()"
   ]
  },
  {
   "cell_type": "code",
   "execution_count": 60,
   "metadata": {},
   "outputs": [
    {
     "data": {
      "text/plain": [
       "1682434800.0"
      ]
     },
     "execution_count": 60,
     "metadata": {},
     "output_type": "execute_result"
    }
   ],
   "source": [
    "datetime(2023, 4, 26).timestamp()"
   ]
  },
  {
   "cell_type": "code",
   "execution_count": 16,
   "metadata": {},
   "outputs": [],
   "source": [
    "posts = slack_app.read_post_from_slack(\n",
    "    channel_id=\"C04KMJ40TGX\",\n",
    "    start_unixtime=1682348400.0,\n",
    "    end_unixtime=1682434800.0,\n",
    ")"
   ]
  },
  {
   "cell_type": "code",
   "execution_count": 28,
   "metadata": {},
   "outputs": [
    {
     "data": {
      "text/plain": [
       "True"
      ]
     },
     "execution_count": 28,
     "metadata": {},
     "output_type": "execute_result"
    }
   ],
   "source": [
    "temp_df = pd.DataFrame()\n",
    "temp_df.empty"
   ]
  },
  {
   "cell_type": "code",
   "execution_count": 27,
   "metadata": {},
   "outputs": [
    {
     "name": "stdout",
     "output_type": "stream",
     "text": [
      "The request to the Slack API failed. (url: https://www.slack.com/api/conversations.replies)\n",
      "The server responded with: {'ok': False, 'error': 'thread_not_found'}\n",
      "The request to the Slack API failed. (url: https://www.slack.com/api/conversations.replies)\n",
      "The server responded with: {'ok': False, 'error': 'thread_not_found'}\n"
     ]
    }
   ],
   "source": [
    "for i in range(2):\n",
    "    try:\n",
    "        slack_app.read_thread_from_slack(channel_id=\"C04KMJ40TGX\", thread_ts=1682422863.550799)\n",
    "    except Exception as e:\n",
    "        print(e)"
   ]
  },
  {
   "cell_type": "code",
   "execution_count": 11,
   "metadata": {},
   "outputs": [
    {
     "data": {
      "text/plain": [
       "1684074864.147899"
      ]
     },
     "execution_count": 11,
     "metadata": {},
     "output_type": "execute_result"
    }
   ],
   "source": [
    "df.loc[df.text.str.contains('scrolling 이 UX 에 어떻게 도움이 되는지'), 'unixtime_2'].tolist()[0]"
   ]
  },
  {
   "cell_type": "code",
   "execution_count": 6,
   "metadata": {},
   "outputs": [
    {
     "data": {
      "text/html": [
       "<div>\n",
       "<style scoped>\n",
       "    .dataframe tbody tr th:only-of-type {\n",
       "        vertical-align: middle;\n",
       "    }\n",
       "\n",
       "    .dataframe tbody tr th {\n",
       "        vertical-align: top;\n",
       "    }\n",
       "\n",
       "    .dataframe thead th {\n",
       "        text-align: right;\n",
       "    }\n",
       "</style>\n",
       "<table border=\"1\" class=\"dataframe\">\n",
       "  <thead>\n",
       "    <tr style=\"text-align: right;\">\n",
       "      <th></th>\n",
       "      <th>channel_id</th>\n",
       "      <th>message_type</th>\n",
       "      <th>post_id</th>\n",
       "      <th>user_id</th>\n",
       "      <th>createtime</th>\n",
       "      <th>tddate</th>\n",
       "      <th>text</th>\n",
       "      <th>reactions</th>\n",
       "      <th>createtime_v2</th>\n",
       "      <th>unixtime_1</th>\n",
       "      <th>unixtime_2</th>\n",
       "    </tr>\n",
       "  </thead>\n",
       "  <tbody>\n",
       "    <tr>\n",
       "      <th>6217</th>\n",
       "      <td>C04KMJ40TGX</td>\n",
       "      <td>post</td>\n",
       "      <td>U04LRNDS67J-2023-04-25-20-41-03-550789</td>\n",
       "      <td>U04LRNDS67J</td>\n",
       "      <td>2023-04-25 20:41:03.550789</td>\n",
       "      <td>2023-04-25</td>\n",
       "      <td>&lt;!channel&gt;\\n안녕하세요 :slightly_smiling_face:  이벤트...</td>\n",
       "      <td>[{\"name\": \"raised_hands\", \"user_id\": [\"U04LRND...</td>\n",
       "      <td>2023-04-25 11:41:03.550789+00:00</td>\n",
       "      <td>1.682455e+09</td>\n",
       "      <td>1.682423e+09</td>\n",
       "    </tr>\n",
       "  </tbody>\n",
       "</table>\n",
       "</div>"
      ],
      "text/plain": [
       "       channel_id message_type                                 post_id  \\\n",
       "6217  C04KMJ40TGX         post  U04LRNDS67J-2023-04-25-20-41-03-550789   \n",
       "\n",
       "          user_id                 createtime      tddate  \\\n",
       "6217  U04LRNDS67J 2023-04-25 20:41:03.550789  2023-04-25   \n",
       "\n",
       "                                                   text  \\\n",
       "6217  <!channel>\\n안녕하세요 :slightly_smiling_face:  이벤트...   \n",
       "\n",
       "                                              reactions  \\\n",
       "6217  [{\"name\": \"raised_hands\", \"user_id\": [\"U04LRND...   \n",
       "\n",
       "                        createtime_v2    unixtime_1    unixtime_2  \n",
       "6217 2023-04-25 11:41:03.550789+00:00  1.682455e+09  1.682423e+09  "
      ]
     },
     "execution_count": 6,
     "metadata": {},
     "output_type": "execute_result"
    }
   ],
   "source": [
    "df.loc[(df.unixtime_2 == 1682422863.550789), ]"
   ]
  },
  {
   "cell_type": "code",
   "execution_count": 12,
   "metadata": {},
   "outputs": [],
   "source": [
    "response = slack_app.read_thread_from_slack(channel_id=\"C04M0FZSZR9\", thread_ts=1684074864.147899)"
   ]
  },
  {
   "cell_type": "code",
   "execution_count": 13,
   "metadata": {},
   "outputs": [
    {
     "data": {
      "text/plain": [
       "[{'bot_id': 'B04LSG8ADCG',\n",
       "  'type': 'message',\n",
       "  'text': \"\\n&gt;&gt;&gt;:tada: *<@U04LM7AQ8QZ>님 제출 완료.*                \\n\\n:speech_balloon: 'SwiftUI 에서 programmatic scrolling 이 UX 에 어떻게 도움이 되는지 직접 경험해보고, 코드를 통해 anchor 파라미터의 역할을 확인해봅니다.'\\n                \\ncategory : 기술 &amp; 언어                \\ntag : `SwiftUI` `iOS`                \\nlink : <https://medium.com/@Jager-yoo/swiftui-%EC%BD%94%EB%93%9C%EB%A5%BC-%ED%86%B5%ED%95%B4-%EC%8A%A4%ED%81%AC%EB%A1%A4%EB%A7%81%EC%9D%84-%EC%9E%91%EB%8F%99%EC%8B%9C%ED%82%A4%EB%8A%94-%EB%B0%A9%EB%B2%95-programmatic-scrolling-c567c99eb31f>\",\n",
       "  'user': 'U04L59HJMM2',\n",
       "  'ts': '1684074864.147899',\n",
       "  'app_id': 'A04KN89JSKH',\n",
       "  'blocks': [{'type': 'rich_text',\n",
       "    'block_id': 'iU==c',\n",
       "    'elements': [{'type': 'rich_text_quote',\n",
       "      'elements': [{'type': 'emoji', 'name': 'tada', 'unicode': '1f389'},\n",
       "       {'type': 'user', 'user_id': 'U04LM7AQ8QZ', 'style': {'bold': True}},\n",
       "       {'type': 'text', 'text': '님 제출 완료.', 'style': {'bold': True}},\n",
       "       {'type': 'text', 'text': '                \\n\\n'},\n",
       "       {'type': 'emoji', 'name': 'speech_balloon', 'unicode': '1f4ac'},\n",
       "       {'type': 'text',\n",
       "        'text': \" 'SwiftUI 에서 programmatic scrolling 이 UX 에 어떻게 도움이 되는지 직접 경험해보고, 코드를 통해 anchor 파라미터의 역할을 확인해봅니다.'\\n                \\ncategory : 기술 & 언어                \\ntag : \"},\n",
       "       {'type': 'text', 'text': 'SwiftUI', 'style': {'code': True}},\n",
       "       {'type': 'text', 'text': ' '},\n",
       "       {'type': 'text', 'text': 'iOS', 'style': {'code': True}},\n",
       "       {'type': 'text', 'text': '                \\nlink : '},\n",
       "       {'type': 'link',\n",
       "        'url': 'https://medium.com/@Jager-yoo/swiftui-%EC%BD%94%EB%93%9C%EB%A5%BC-%ED%86%B5%ED%95%B4-%EC%8A%A4%ED%81%AC%EB%A1%A4%EB%A7%81%EC%9D%84-%EC%9E%91%EB%8F%99%EC%8B%9C%ED%82%A4%EB%8A%94-%EB%B0%A9%EB%B2%95-programmatic-scrolling-c567c99eb31f'}]}]}],\n",
       "  'team': 'T04KVDRQFFY',\n",
       "  'bot_profile': {'id': 'B04LSG8ADCG',\n",
       "   'deleted': False,\n",
       "   'name': '또봇',\n",
       "   'updated': 1674958626,\n",
       "   'app_id': 'A04KN89JSKH',\n",
       "   'icons': {'image_36': 'https://avatars.slack-edge.com/2023-01-28/4716675757364_df76c50f1a2e66f2a9c4_36.png',\n",
       "    'image_48': 'https://avatars.slack-edge.com/2023-01-28/4716675757364_df76c50f1a2e66f2a9c4_48.png',\n",
       "    'image_72': 'https://avatars.slack-edge.com/2023-01-28/4716675757364_df76c50f1a2e66f2a9c4_72.png'},\n",
       "   'team_id': 'T04KVDRQFFY'},\n",
       "  'attachments': [{'from_url': 'https://medium.com/@Jager-yoo/swiftui-%EC%BD%94%EB%93%9C%EB%A5%BC-%ED%86%B5%ED%95%B4-%EC%8A%A4%ED%81%AC%EB%A1%A4%EB%A7%81%EC%9D%84-%EC%9E%91%EB%8F%99%EC%8B%9C%ED%82%A4%EB%8A%94-%EB%B0%A9%EB%B2%95-programmatic-scrolling-c567c99eb31f',\n",
       "    'ts': 1684074682,\n",
       "    'image_url': 'https://miro.medium.com/v2/da:true/resize:fit:480/1*ACS4QN2dGZVKqnCXSwWw4w.gif',\n",
       "    'image_width': 480,\n",
       "    'image_height': 270,\n",
       "    'image_bytes': 71144,\n",
       "    'service_icon': 'https://miro.medium.com/v2/resize:fill:152:152/1*sHhtYhaCe2Uc3IU0IgKwIQ.png',\n",
       "    'id': 1,\n",
       "    'original_url': 'https://medium.com/@Jager-yoo/swiftui-%EC%BD%94%EB%93%9C%EB%A5%BC-%ED%86%B5%ED%95%B4-%EC%8A%A4%ED%81%AC%EB%A1%A4%EB%A7%81%EC%9D%84-%EC%9E%91%EB%8F%99%EC%8B%9C%ED%82%A4%EB%8A%94-%EB%B0%A9%EB%B2%95-programmatic-scrolling-c567c99eb31f',\n",
       "    'fallback': 'Medium: [SwiftUI] 코드를 통해 스크롤링을 작동시키는 방법 (programmatic scrolling)',\n",
       "    'text': '안녕하세요. 현대자동차 유재호 연구원입니다. :relieved:',\n",
       "    'title': '[SwiftUI] 코드를 통해 스크롤링을 작동시키는 방법 (programmatic scrolling)',\n",
       "    'title_link': 'https://medium.com/@Jager-yoo/swiftui-%EC%BD%94%EB%93%9C%EB%A5%BC-%ED%86%B5%ED%95%B4-%EC%8A%A4%ED%81%AC%EB%A1%A4%EB%A7%81%EC%9D%84-%EC%9E%91%EB%8F%99%EC%8B%9C%ED%82%A4%EB%8A%94-%EB%B0%A9%EB%B2%95-programmatic-scrolling-c567c99eb31f',\n",
       "    'service_name': 'Medium',\n",
       "    'fields': [{'value': '6 min read',\n",
       "      'title': 'Reading time',\n",
       "      'short': True}]}],\n",
       "  'thread_ts': '1684074864.147899',\n",
       "  'reply_count': 2,\n",
       "  'reply_users_count': 2,\n",
       "  'latest_reply': '1684129642.841559',\n",
       "  'reply_users': ['U04LP9J4JDP', 'U04LM7AQ8QZ'],\n",
       "  'is_locked': False,\n",
       "  'subscribed': False,\n",
       "  'reactions': [{'name': 'meow_wow',\n",
       "    'users': ['U04LZ0AKFUG', 'U04L8FS7F35'],\n",
       "    'count': 2},\n",
       "   {'name': 'clap::skin-tone-2', 'users': ['U04L8J49LNN'], 'count': 1},\n",
       "   {'name': 'clap', 'users': ['U04LZ0AKFUG'], 'count': 1}]},\n",
       " {'client_msg_id': '490f3302-72d6-4923-8cdd-96a952e7a912',\n",
       "  'type': 'message',\n",
       "  'text': '현재 진행 중인 SwiftUI 프로젝트에서 사용해보면 좋을 것 같네요! 좋은 글 감사합니다:)',\n",
       "  'user': 'U04LP9J4JDP',\n",
       "  'ts': '1684129050.611319',\n",
       "  'blocks': [{'type': 'rich_text',\n",
       "    'block_id': 'SNkbb',\n",
       "    'elements': [{'type': 'rich_text_section',\n",
       "      'elements': [{'type': 'text',\n",
       "        'text': '현재 진행 중인 SwiftUI 프로젝트에서 사용해보면 좋을 것 같네요! 좋은 글 감사합니다:)'}]}]}],\n",
       "  'team': 'T04KVDRQFFY',\n",
       "  'edited': {'user': 'U04LP9J4JDP', 'ts': '1684129064.000000'},\n",
       "  'thread_ts': '1684074864.147899',\n",
       "  'parent_user_id': 'U04L59HJMM2',\n",
       "  'reactions': [{'name': 'meow-heart-bongo',\n",
       "    'users': ['U04LM7AQ8QZ'],\n",
       "    'count': 1}]},\n",
       " {'client_msg_id': '7E9A70B4-C550-405D-88A7-0AEABB9B3986',\n",
       "  'type': 'message',\n",
       "  'text': '감사해요 준용님!',\n",
       "  'user': 'U04LM7AQ8QZ',\n",
       "  'ts': '1684129642.841559',\n",
       "  'blocks': [{'type': 'rich_text',\n",
       "    'block_id': '7wfnF',\n",
       "    'elements': [{'type': 'rich_text_section',\n",
       "      'elements': [{'type': 'text', 'text': '감사해요'},\n",
       "       {'type': 'text', 'text': ' '},\n",
       "       {'type': 'text', 'text': '준용님'},\n",
       "       {'type': 'text', 'text': '!'}]}]}],\n",
       "  'team': 'T04KVDRQFFY',\n",
       "  'thread_ts': '1684074864.147899',\n",
       "  'parent_user_id': 'U04L59HJMM2',\n",
       "  'reactions': [{'name': '+1', 'users': ['U04LP9J4JDP'], 'count': 1}]}]"
      ]
     },
     "execution_count": 13,
     "metadata": {},
     "output_type": "execute_result"
    }
   ],
   "source": [
    "response"
   ]
  },
  {
   "cell_type": "code",
   "execution_count": 18,
   "metadata": {},
   "outputs": [
    {
     "data": {
      "text/plain": [
       "{'type': 'message',\n",
       " 'subtype': 'thread_broadcast',\n",
       " 'text': '저도 받고 싶습니다!! 감사합니다!!',\n",
       " 'user': 'U04LYJ4LQQY',\n",
       " 'ts': '1682422921.977219',\n",
       " 'thread_ts': '1682422863.550789',\n",
       " 'root': {'client_msg_id': '680ee1e5-ab05-4493-9207-64041df010c2',\n",
       "  'type': 'message',\n",
       "  'text': '<!channel>\\n안녕하세요 :slightly_smiling_face:  이벤트라 채널을 해봅니다!\\n*인프런과 협업하면서 글또분들을 위한 30% 쿠폰을 받아왔어요-!*\\n• 할인율 : 30%\\n• 쿠폰 사용 기간 : ~ 23년 7월 31일\\n• 1회만 사용이 가능한 쿠폰이며 다른 할인과 중복은 어렵고, 프로모션 비동의 강의는 제외됩니다\\n*쿠폰을 받고 싶으신 분은 쓰레드에 \"댓글\"을 남겨주세요. 한분 한분씩 제가 DM으로 쿠폰 코드를 보내드릴게요(실시간으로 바로는 아니여도 하루에 1번씩 보낼게요)*\\n\\n그리고 *그 외에 강의를 만들고 싶으신 분이 있다면 이모지(*:books:*) 남겨주셔요*- 얼마나 되는지 확인차 남겨보아요(다만 7기에서 강의 만들기 모임을 했을 때 결국 만드신 분은 1분 뿐이였어요..! 시간 확보를 충분히 할 수 있는 분에게 추천드려요) -&gt; 강의 희망자는 :books: 이모지 남겨주세용. 추후에 제가 별도로 채널을 만들지 기준으로 해볼게요(궁금하신거 질문하셔도 괜찮아요)',\n",
       "  'user': 'U04LRNDS67J',\n",
       "  'ts': '1682422863.550789',\n",
       "  'blocks': [{'type': 'rich_text',\n",
       "    'block_id': 'WSyg',\n",
       "    'elements': [{'type': 'rich_text_section',\n",
       "      'elements': [{'type': 'broadcast', 'range': 'channel'},\n",
       "       {'type': 'text', 'text': '\\n안녕하세요 '},\n",
       "       {'type': 'emoji', 'name': 'slightly_smiling_face', 'unicode': '1f642'},\n",
       "       {'type': 'text', 'text': '  이벤트라 채널을 해봅니다!\\n'},\n",
       "       {'type': 'text',\n",
       "        'text': '인프런과 협업하면서 글또분들을 위한 30% 쿠폰을 받아왔어요-!',\n",
       "        'style': {'bold': True}},\n",
       "       {'type': 'text', 'text': '\\n'}]},\n",
       "     {'type': 'rich_text_list',\n",
       "      'elements': [{'type': 'rich_text_section',\n",
       "        'elements': [{'type': 'text', 'text': '할인율 : 30%'}]},\n",
       "       {'type': 'rich_text_section',\n",
       "        'elements': [{'type': 'text', 'text': '쿠폰 사용 기간 : ~ 23년 7월 31일'}]},\n",
       "       {'type': 'rich_text_section',\n",
       "        'elements': [{'type': 'text',\n",
       "          'text': '1회만 사용이 가능한 쿠폰이며 다른 할인과 중복은 어렵고, 프로모션 비동의 강의는 제외됩니다'}]}],\n",
       "      'style': 'bullet',\n",
       "      'indent': 0,\n",
       "      'border': 0},\n",
       "     {'type': 'rich_text_section',\n",
       "      'elements': [{'type': 'text', 'text': '\\n'},\n",
       "       {'type': 'text',\n",
       "        'text': '쿠폰을 받고 싶으신 분은 쓰레드에 \"댓글\"을 남겨주세요. 한분 한분씩 제가 DM으로 쿠폰 코드를 보내드릴게요(실시간으로 바로는 아니여도 하루에 1번씩 보낼게요)',\n",
       "        'style': {'bold': True}},\n",
       "       {'type': 'text', 'text': '\\n\\n그리고 '},\n",
       "       {'type': 'text',\n",
       "        'text': '그 외에 강의를 만들고 싶으신 분이 있다면 이모지(',\n",
       "        'style': {'bold': True}},\n",
       "       {'type': 'emoji',\n",
       "        'name': 'books',\n",
       "        'unicode': '1f4da',\n",
       "        'style': {'bold': True}},\n",
       "       {'type': 'text', 'text': ') 남겨주셔요', 'style': {'bold': True}},\n",
       "       {'type': 'text',\n",
       "        'text': '- 얼마나 되는지 확인차 남겨보아요(다만 7기에서 강의 만들기 모임을 했을 때 결국 만드신 분은 1분 뿐이였어요..! 시간 확보를 충분히 할 수 있는 분에게 추천드려요) -> 강의 희망자는 '},\n",
       "       {'type': 'emoji', 'name': 'books', 'unicode': '1f4da'},\n",
       "       {'type': 'text',\n",
       "        'text': ' 이모지 남겨주세용. 추후에 제가 별도로 채널을 만들지 기준으로 해볼게요(궁금하신거 질문하셔도 괜찮아요)'}]}]}],\n",
       "  'team': 'T04KVDRQFFY',\n",
       "  'edited': {'user': 'U04LRNDS67J', 'ts': '1682422987.000000'},\n",
       "  'thread_ts': '1682422863.550789',\n",
       "  'reply_count': 151,\n",
       "  'reply_users_count': 147,\n",
       "  'latest_reply': '1684141304.229479',\n",
       "  'reply_users': ['U04LS2B38V7',\n",
       "   'U04M43NV15E',\n",
       "   'U04L8HEQ11Q',\n",
       "   'U04M3AL9M08',\n",
       "   'U04LT3TGEBT',\n",
       "   'U04L5KJH32R',\n",
       "   'U04LYJ4LQQY',\n",
       "   'U04KU39T11D',\n",
       "   'U04LYFMBDRN',\n",
       "   'U04LLS90GAE',\n",
       "   'U04L9Q92N06',\n",
       "   'U04LE5H06LT',\n",
       "   'U04L9204P98',\n",
       "   'U04L8EGAHA7',\n",
       "   'U04LA127Y59',\n",
       "   'U04LD5T6BT5',\n",
       "   'U04L8GT1ZKL',\n",
       "   'U04L8HF2QH1',\n",
       "   'U04KV8LEKSB',\n",
       "   'U04L8FXFYF4',\n",
       "   'U04LLAQEXHU',\n",
       "   'U04MC1FQJF3',\n",
       "   'U04LDABEYF5',\n",
       "   'U04L8CQ05S7',\n",
       "   'U04LY6E09UY'],\n",
       "  'is_locked': False,\n",
       "  'subscribed': False},\n",
       " 'blocks': [{'type': 'rich_text',\n",
       "   'block_id': '7Hn5k',\n",
       "   'elements': [{'type': 'rich_text_section',\n",
       "     'elements': [{'type': 'text', 'text': '저도 받고 싶습니다!! 감사합니다!!'}]}]}],\n",
       " 'client_msg_id': '89455774-ef71-4c9f-9cef-0bc895216c7b'}"
      ]
     },
     "execution_count": 18,
     "metadata": {},
     "output_type": "execute_result"
    }
   ],
   "source": [
    "response[6]"
   ]
  },
  {
   "cell_type": "code",
   "execution_count": 61,
   "metadata": {},
   "outputs": [
    {
     "data": {
      "text/plain": [
       "151"
      ]
     },
     "execution_count": 61,
     "metadata": {},
     "output_type": "execute_result"
    }
   ],
   "source": [
    "len(response)"
   ]
  },
  {
   "cell_type": "code",
   "execution_count": 65,
   "metadata": {},
   "outputs": [],
   "source": [
    "empty_list = []\n",
    "for thread in response:\n",
    "    empty_list.append(\n",
    "        SlackMessageRetriever.convert_thread_to_dict(\n",
    "            channel_id=\"C04KMJ40TGX\", thread=thread\n",
    "        ))"
   ]
  },
  {
   "cell_type": "code",
   "execution_count": 66,
   "metadata": {},
   "outputs": [
    {
     "data": {
      "text/html": [
       "<div>\n",
       "<style scoped>\n",
       "    .dataframe tbody tr th:only-of-type {\n",
       "        vertical-align: middle;\n",
       "    }\n",
       "\n",
       "    .dataframe tbody tr th {\n",
       "        vertical-align: top;\n",
       "    }\n",
       "\n",
       "    .dataframe thead th {\n",
       "        text-align: right;\n",
       "    }\n",
       "</style>\n",
       "<table border=\"1\" class=\"dataframe\">\n",
       "  <thead>\n",
       "    <tr style=\"text-align: right;\">\n",
       "      <th></th>\n",
       "      <th>channel_id</th>\n",
       "      <th>message_type</th>\n",
       "      <th>post_id</th>\n",
       "      <th>user_id</th>\n",
       "      <th>createtime</th>\n",
       "      <th>tddate</th>\n",
       "      <th>text</th>\n",
       "      <th>reactions</th>\n",
       "    </tr>\n",
       "  </thead>\n",
       "  <tbody>\n",
       "    <tr>\n",
       "      <th>0</th>\n",
       "      <td>C04KMJ40TGX</td>\n",
       "      <td>thread</td>\n",
       "      <td>U04LRNDS67J-2023-04-25-20-41-03-550789</td>\n",
       "      <td>U04LS2B38V7</td>\n",
       "      <td>2023-04-25T20:41:27.570899</td>\n",
       "      <td>2023-04-25</td>\n",
       "      <td>저요!! 감사합니다~</td>\n",
       "      <td>[]</td>\n",
       "    </tr>\n",
       "    <tr>\n",
       "      <th>1</th>\n",
       "      <td>C04KMJ40TGX</td>\n",
       "      <td>thread</td>\n",
       "      <td>U04LRNDS67J-2023-04-25-20-41-03-550789</td>\n",
       "      <td>U04M43NV15E</td>\n",
       "      <td>2023-04-25T20:41:52.096349</td>\n",
       "      <td>2023-04-25</td>\n",
       "      <td>와우 ㅠ 저두용! 감사합니다:)</td>\n",
       "      <td>[]</td>\n",
       "    </tr>\n",
       "    <tr>\n",
       "      <th>2</th>\n",
       "      <td>C04KMJ40TGX</td>\n",
       "      <td>thread</td>\n",
       "      <td>U04LRNDS67J-2023-04-25-20-41-03-550789</td>\n",
       "      <td>U04L8HEQ11Q</td>\n",
       "      <td>2023-04-25T20:41:54.999759</td>\n",
       "      <td>2023-04-25</td>\n",
       "      <td>와…! 저 받고싶습니다~! 이런 기회 마련해주셔서 감사합니다. :man-bowing:</td>\n",
       "      <td>[]</td>\n",
       "    </tr>\n",
       "    <tr>\n",
       "      <th>3</th>\n",
       "      <td>C04KMJ40TGX</td>\n",
       "      <td>thread</td>\n",
       "      <td>U04LRNDS67J-2023-04-25-20-41-03-550789</td>\n",
       "      <td>U04M3AL9M08</td>\n",
       "      <td>2023-04-25T20:41:56.108649</td>\n",
       "      <td>2023-04-25</td>\n",
       "      <td>저도 받고싶습니다! 감사합니다!</td>\n",
       "      <td>[]</td>\n",
       "    </tr>\n",
       "    <tr>\n",
       "      <th>4</th>\n",
       "      <td>C04KMJ40TGX</td>\n",
       "      <td>thread</td>\n",
       "      <td>U04LRNDS67J-2023-04-25-20-41-03-550789</td>\n",
       "      <td>U04LT3TGEBT</td>\n",
       "      <td>2023-04-25T20:41:57.377959</td>\n",
       "      <td>2023-04-25</td>\n",
       "      <td>저두요 !!</td>\n",
       "      <td>[]</td>\n",
       "    </tr>\n",
       "    <tr>\n",
       "      <th>...</th>\n",
       "      <td>...</td>\n",
       "      <td>...</td>\n",
       "      <td>...</td>\n",
       "      <td>...</td>\n",
       "      <td>...</td>\n",
       "      <td>...</td>\n",
       "      <td>...</td>\n",
       "      <td>...</td>\n",
       "    </tr>\n",
       "    <tr>\n",
       "      <th>146</th>\n",
       "      <td>C04KMJ40TGX</td>\n",
       "      <td>thread</td>\n",
       "      <td>U04LRNDS67J-2023-04-25-20-41-03-550789</td>\n",
       "      <td>U04KU1V44T1</td>\n",
       "      <td>2023-05-01T14:34:23.900079</td>\n",
       "      <td>2023-05-01</td>\n",
       "      <td>남았을까요...?ㅜㅜ 저도 신청해 봅니다!!</td>\n",
       "      <td>[]</td>\n",
       "    </tr>\n",
       "    <tr>\n",
       "      <th>147</th>\n",
       "      <td>C04KMJ40TGX</td>\n",
       "      <td>thread</td>\n",
       "      <td>U04LRNDS67J-2023-04-25-20-41-03-550789</td>\n",
       "      <td>U04KMKH8UR5</td>\n",
       "      <td>2023-05-02T01:37:11.740079</td>\n",
       "      <td>2023-05-02</td>\n",
       "      <td>변예진님, 소재훈님, 이지원님, 박이슬님, 강수경님 발송드렸습니다.</td>\n",
       "      <td>[{\"name\": \"raised_hands\", \"user_id\": [\"U04LRND...</td>\n",
       "    </tr>\n",
       "    <tr>\n",
       "      <th>148</th>\n",
       "      <td>C04KMJ40TGX</td>\n",
       "      <td>thread</td>\n",
       "      <td>U04LRNDS67J-2023-04-25-20-41-03-550789</td>\n",
       "      <td>U04L3ALEKDL</td>\n",
       "      <td>2023-05-02T02:07:08.658229</td>\n",
       "      <td>2023-05-02</td>\n",
       "      <td>저도 신청합니다. 감사합니다</td>\n",
       "      <td>[]</td>\n",
       "    </tr>\n",
       "    <tr>\n",
       "      <th>149</th>\n",
       "      <td>C04KMJ40TGX</td>\n",
       "      <td>thread</td>\n",
       "      <td>U04LRNDS67J-2023-04-25-20-41-03-550789</td>\n",
       "      <td>U04M02MJAKT</td>\n",
       "      <td>2023-05-13T10:13:14.332579</td>\n",
       "      <td>2023-05-13</td>\n",
       "      <td>호옥시 아직 신청할 수 있다면 저도 부탁드립니다!</td>\n",
       "      <td>[]</td>\n",
       "    </tr>\n",
       "    <tr>\n",
       "      <th>150</th>\n",
       "      <td>C04KMJ40TGX</td>\n",
       "      <td>thread</td>\n",
       "      <td>U04LRNDS67J-2023-04-25-20-41-03-550789</td>\n",
       "      <td>U04KMKH8UR5</td>\n",
       "      <td>2023-05-15T18:01:44.229479</td>\n",
       "      <td>2023-05-15</td>\n",
       "      <td>모두 보내드렸습니다!</td>\n",
       "      <td>[{\"name\": \"clap\", \"user_id\": [\"U04LYJPB7B2\", \"...</td>\n",
       "    </tr>\n",
       "  </tbody>\n",
       "</table>\n",
       "<p>151 rows × 8 columns</p>\n",
       "</div>"
      ],
      "text/plain": [
       "      channel_id message_type                                 post_id  \\\n",
       "0    C04KMJ40TGX       thread  U04LRNDS67J-2023-04-25-20-41-03-550789   \n",
       "1    C04KMJ40TGX       thread  U04LRNDS67J-2023-04-25-20-41-03-550789   \n",
       "2    C04KMJ40TGX       thread  U04LRNDS67J-2023-04-25-20-41-03-550789   \n",
       "3    C04KMJ40TGX       thread  U04LRNDS67J-2023-04-25-20-41-03-550789   \n",
       "4    C04KMJ40TGX       thread  U04LRNDS67J-2023-04-25-20-41-03-550789   \n",
       "..           ...          ...                                     ...   \n",
       "146  C04KMJ40TGX       thread  U04LRNDS67J-2023-04-25-20-41-03-550789   \n",
       "147  C04KMJ40TGX       thread  U04LRNDS67J-2023-04-25-20-41-03-550789   \n",
       "148  C04KMJ40TGX       thread  U04LRNDS67J-2023-04-25-20-41-03-550789   \n",
       "149  C04KMJ40TGX       thread  U04LRNDS67J-2023-04-25-20-41-03-550789   \n",
       "150  C04KMJ40TGX       thread  U04LRNDS67J-2023-04-25-20-41-03-550789   \n",
       "\n",
       "         user_id                  createtime      tddate  \\\n",
       "0    U04LS2B38V7  2023-04-25T20:41:27.570899  2023-04-25   \n",
       "1    U04M43NV15E  2023-04-25T20:41:52.096349  2023-04-25   \n",
       "2    U04L8HEQ11Q  2023-04-25T20:41:54.999759  2023-04-25   \n",
       "3    U04M3AL9M08  2023-04-25T20:41:56.108649  2023-04-25   \n",
       "4    U04LT3TGEBT  2023-04-25T20:41:57.377959  2023-04-25   \n",
       "..           ...                         ...         ...   \n",
       "146  U04KU1V44T1  2023-05-01T14:34:23.900079  2023-05-01   \n",
       "147  U04KMKH8UR5  2023-05-02T01:37:11.740079  2023-05-02   \n",
       "148  U04L3ALEKDL  2023-05-02T02:07:08.658229  2023-05-02   \n",
       "149  U04M02MJAKT  2023-05-13T10:13:14.332579  2023-05-13   \n",
       "150  U04KMKH8UR5  2023-05-15T18:01:44.229479  2023-05-15   \n",
       "\n",
       "                                                text  \\\n",
       "0                                        저요!! 감사합니다~   \n",
       "1                                  와우 ㅠ 저두용! 감사합니다:)   \n",
       "2    와…! 저 받고싶습니다~! 이런 기회 마련해주셔서 감사합니다. :man-bowing:   \n",
       "3                                  저도 받고싶습니다! 감사합니다!   \n",
       "4                                             저두요 !!   \n",
       "..                                               ...   \n",
       "146                         남았을까요...?ㅜㅜ 저도 신청해 봅니다!!   \n",
       "147            변예진님, 소재훈님, 이지원님, 박이슬님, 강수경님 발송드렸습니다.   \n",
       "148                                  저도 신청합니다. 감사합니다   \n",
       "149                      호옥시 아직 신청할 수 있다면 저도 부탁드립니다!   \n",
       "150                                      모두 보내드렸습니다!   \n",
       "\n",
       "                                             reactions  \n",
       "0                                                   []  \n",
       "1                                                   []  \n",
       "2                                                   []  \n",
       "3                                                   []  \n",
       "4                                                   []  \n",
       "..                                                 ...  \n",
       "146                                                 []  \n",
       "147  [{\"name\": \"raised_hands\", \"user_id\": [\"U04LRND...  \n",
       "148                                                 []  \n",
       "149                                                 []  \n",
       "150  [{\"name\": \"clap\", \"user_id\": [\"U04LYJPB7B2\", \"...  \n",
       "\n",
       "[151 rows x 8 columns]"
      ]
     },
     "execution_count": 66,
     "metadata": {},
     "output_type": "execute_result"
    }
   ],
   "source": [
    "pd.DataFrame(empty_list)"
   ]
  },
  {
   "cell_type": "code",
   "execution_count": 20,
   "metadata": {},
   "outputs": [],
   "source": [
    "def getDateList_byday(start_date : str, end_date : str, day : int) -> list:\n",
    " \n",
    "    date_list = []\n",
    "    convert_startDate = datetime.strptime(start_date, \"%Y-%m-%d\").date()\n",
    " \n",
    "    start = convert_startDate + relativedelta(days=-1)\n",
    " \n",
    "    while start.strftime('%Y-%m-%d') < end_date:\n",
    "        start = start + relativedelta(days=+1)\n",
    "        if start.weekday() == day:\n",
    "            date_list.append(start)\n",
    " \n",
    "    return date_list"
   ]
  },
  {
   "cell_type": "code",
   "execution_count": 21,
   "metadata": {},
   "outputs": [
    {
     "data": {
      "text/plain": [
       "[datetime.date(2023, 5, 7),\n",
       " datetime.date(2023, 5, 14),\n",
       " datetime.date(2023, 5, 21),\n",
       " datetime.date(2023, 5, 28)]"
      ]
     },
     "execution_count": 21,
     "metadata": {},
     "output_type": "execute_result"
    }
   ],
   "source": [
    "getDateList_byday(start_date = '2023-05-01', end_date = '2023-05-30', day=6)"
   ]
  },
  {
   "cell_type": "code",
   "execution_count": null,
   "metadata": {},
   "outputs": [],
   "source": [
    "slack_app = conversations_replies(channel=channel_id, ts=thread_ts)"
   ]
  },
  {
   "cell_type": "code",
   "execution_count": 4,
   "metadata": {},
   "outputs": [
    {
     "name": "stdout",
     "output_type": "stream",
     "text": [
      "2023-05-21\n"
     ]
    }
   ],
   "source": [
    "import sys\n",
    "from datetime import datetime\n",
    "\n",
    "# 모듈 참조 경로 추가\n",
    "sys.path.append(\"/Users/cho/git/geultto_genie_bot\")\n",
    "\n",
    "from module.bigquery import BigqueryProcessor\n",
    "from module.slack import SlackMessageRetriever\n",
    "\n",
    "# 인스턴스 생성\n",
    "bigquery_client = BigqueryProcessor(\n",
    "    env_name=\"GOOGLE_APPLICATION_CREDENTIALS\", database_id=\"geultto_8th\"\n",
    ")\n",
    "schema_conversation = bigquery_client.read_schema(file_path=\"schema/slack_conversation.json\")\n",
    "slack_app = SlackMessageRetriever(env_name=\"SLACK_TOKEN\")\n",
    "\n",
    "# post_id 읽어오기\n",
    "sdate = datetime.today().strftime(\"%Y-%m-%d\")\n",
    "where_clause = f\"tddate <= '{sdate}'\"\n",
    "df_conversation = bigquery_client.read_table(\n",
    "    table_name=\"slack_conversation\", where_clause=where_clause\n",
    ")\n",
    "print(df_conversation[\"tddate\"].max())"
   ]
  },
  {
   "cell_type": "code",
   "execution_count": 3,
   "metadata": {},
   "outputs": [
    {
     "data": {
      "text/plain": [
       "(16833, 8)"
      ]
     },
     "execution_count": 3,
     "metadata": {},
     "output_type": "execute_result"
    }
   ],
   "source": [
    "df_conversation.shape"
   ]
  },
  {
   "cell_type": "code",
   "execution_count": 5,
   "metadata": {},
   "outputs": [
    {
     "name": "stdout",
     "output_type": "stream",
     "text": [
      "geultto.geultto_8th.upsert_test가 정상적으로 적재 됐습니다.\n"
     ]
    }
   ],
   "source": [
    "bigquery_client.update_table(\n",
    "    df=df_conversation, table_name='upsert_test', if_exists=\"replace\", schema=None\n",
    ")"
   ]
  },
  {
   "cell_type": "code",
   "execution_count": null,
   "metadata": {},
   "outputs": [],
   "source": []
  }
 ],
 "metadata": {
  "kernelspec": {
   "display_name": "analysis",
   "language": "python",
   "name": "python3"
  },
  "language_info": {
   "codemirror_mode": {
    "name": "ipython",
    "version": 3
   },
   "file_extension": ".py",
   "mimetype": "text/x-python",
   "name": "python",
   "nbconvert_exporter": "python",
   "pygments_lexer": "ipython3",
   "version": "3.9.16"
  },
  "orig_nbformat": 4
 },
 "nbformat": 4,
 "nbformat_minor": 2
}
